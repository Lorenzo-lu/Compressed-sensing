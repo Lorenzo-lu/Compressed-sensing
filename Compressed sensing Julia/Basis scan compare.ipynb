{
 "cells": [
  {
   "cell_type": "markdown",
   "metadata": {},
   "source": [
    "## This code is to compare the inverted mask basis of DCT and Haar"
   ]
  },
  {
   "cell_type": "code",
   "execution_count": 1,
   "metadata": {},
   "outputs": [
    {
     "data": {
      "text/plain": [
       "Haar_recursion (generic function with 1 method)"
      ]
     },
     "execution_count": 1,
     "metadata": {},
     "output_type": "execute_result"
    }
   ],
   "source": [
    "using FFTW, LinearAlgebra, Distributions, Random, Images, TestImages, ImageMagick, PyPlot;\n",
    "\n",
    "function idctmtx(dims)\n",
    "    ## produce a DCT matrix like matlab\n",
    "    diag = I(dims);\n",
    "    D = zeros(dims,dims);\n",
    "    for i = 1:dims\n",
    "        D[:,i] = idct(diag[:,i]);\n",
    "    end\n",
    "    return D;\n",
    "end\n",
    "\n",
    "## 2.\n",
    "function IDCT_basis(r_tot,c_tot)\n",
    "    ## produce a hyper resolution DMD measurement basis series\n",
    "    ##verified by Python; \n",
    "    # making a idct2 matrix in a vector form\n",
    "    D1 = idctmtx(r_tot);\n",
    "    D2 = idctmtx(c_tot);\n",
    "    N = r_tot * c_tot;\n",
    "    Basis = zeros(N,N);\n",
    "    \n",
    "    i = 1;\n",
    "    for ir = 1:r_tot\n",
    "        for ic = 1:c_tot\n",
    "            \n",
    "            Basis_Vector = D1[ir:ir,:]' * D2[ic:ic,:];\n",
    "            Basis[i,:] = reshape(Basis_Vector', (1,:));\n",
    "            i += 1;\n",
    "        end\n",
    "        \n",
    "    end\n",
    "    return Basis;\n",
    "end\n",
    "\n",
    "function dctmtx(dims)\n",
    "    ## produce a DCT matrix like matlab\n",
    "    diag = I(dims);\n",
    "    D = zeros(dims,dims);\n",
    "    for i = 1:dims\n",
    "        D[:,i] = dct(diag[:,i]);\n",
    "    end\n",
    "    return D;\n",
    "end\n",
    "\n",
    "## 2.\n",
    "function DCT_basis(r_tot,c_tot)\n",
    "    ## produce a hyper resolution DMD measurement basis series\n",
    "    ##verified by Python; \n",
    "    # making a idct2 matrix in a vector form\n",
    "    D1 = dctmtx(r_tot);\n",
    "    D2 = dctmtx(c_tot);\n",
    "    N = r_tot * c_tot;\n",
    "    Basis = zeros(N,N);\n",
    "    \n",
    "    i = 1;\n",
    "    for ir = 1:r_tot\n",
    "        for ic = 1:c_tot\n",
    "            \n",
    "            Basis_Vector = D1[ir:ir,:]' * D2[ic:ic,:];\n",
    "            Basis[i,:] = reshape(Basis_Vector', (1,:));\n",
    "            i += 1;\n",
    "        end\n",
    "        \n",
    "    end\n",
    "    return Basis;\n",
    "end\n",
    "\n",
    "## 3.\n",
    "function Poisson_noise(signal)\n",
    "    return rand.(Poisson.(signal));\n",
    "end\n",
    "\n",
    "## 4 Haar matrix\n",
    "##============================\n",
    "function Resize(mat, new_size)\n",
    "    r,c = new_size;\n",
    "    r0, c0 = size(mat);\n",
    "    mat2 = zeros(r,c)\n",
    "    for i = 1:r\n",
    "        y = Int(ceil(i * r0 / r));\n",
    "        for j = 1:c\n",
    "            x = Int(ceil(j * c0 / c));\n",
    "            mat2[i,j] = mat[y,x];\n",
    "        end\n",
    "    end\n",
    "    return mat2;    \n",
    "end\n",
    "\n",
    "function Haar_tree(seed_raw)    \n",
    "    r,c = size(seed_raw);\n",
    "    r2 = Int(round(r/2));\n",
    "    c2 = Int(round(c/2));\n",
    "    seed = Resize(seed_raw, (r2,c2));\n",
    "    k1 = [1 0; 0 0];\n",
    "    k2 = [0 1; 0 0];\n",
    "    k3 = [0 0; 1 0];\n",
    "    k4 = [0 0; 0 1];\n",
    "    \n",
    "    out = zeros(2*r, 2*c);\n",
    "    \n",
    "    out[1:r,1:c] = kron(k1, seed);\n",
    "    out[1:r,c+1:2*c] = kron(k2, seed);\n",
    "    out[r+1:2*r,1:c] = kron(k3, seed);\n",
    "    out[r+1:2*r, c+1:2*c] = kron(k4, seed);\n",
    "    \n",
    "    return out;\n",
    "end\n",
    "\n",
    "function make_tensor(n, seed, row,col)\n",
    "    # r is the edge\n",
    "    r = 2^(n);    \n",
    "\n",
    "    tensor = zeros(row,col,2^(2*n));\n",
    "    layer = 1;\n",
    "    \n",
    "    sub = zeros(r,r);\n",
    "    for i = 1:2^n\n",
    "        for j = 1:2^n\n",
    "            \n",
    "            #sub = matrix[(i-1)*r+1: i*r, (j-1)*r+1:j*r];\n",
    "            sub[i,j] = 1;\n",
    "            \n",
    "            tensor[:,:,layer] = Resize(kron(sub,seed), (row,col));\n",
    "            sub[i,j] = 0;\n",
    "            layer+=1;\n",
    "        end\n",
    "    end\n",
    "    return tensor;\n",
    "end\n",
    "\n",
    "function Haar_recursion(row,col)\n",
    "    ## currently please let row = col = 2^n\n",
    "    haar_tensor = zeros(row,col,(row*col));\n",
    "    \n",
    "    seed1= [1 1; 1 1];\n",
    "    seed2= [1 -1; 1 -1];\n",
    "    seed3 = [1 1; -1 -1];\n",
    "    seed4 = [1 -1; -1 1];\n",
    "    \n",
    "    kernel1 = Resize([1 1; 1 1], (row,col));\n",
    "    kernel2 = Resize([1 -1; 1 -1], (row,col));\n",
    "    kernel3 = Resize([1 1; -1 -1],(row,col));\n",
    "    kernel4 = Resize([1 -1; -1 1],(row,col));\n",
    "    haar_tensor[:,:,1] = kernel1;\n",
    "    haar_tensor[:,:,2] = kernel2;\n",
    "    haar_tensor[:,:,3] = kernel3;\n",
    "    haar_tensor[:,:,4] = kernel4;\n",
    "    \n",
    "    layer = 4;\n",
    "    kernel_edge = row;\n",
    "    N = 1;\n",
    "    while kernel_edge >= 4\n",
    "        \n",
    "        #kernel2 = Haar_tree(kernel2);\n",
    "        \n",
    "        t1 = make_tensor( N, seed2, row,col);\n",
    "        L = length(t1[1,1,:]);\n",
    "        haar_tensor[:,:, layer+1:layer+L] = t1;\n",
    "        layer += L;\n",
    "        \n",
    "        #kernel3 = Haar_tree(kernel3);\n",
    "        t1 = make_tensor( N, seed3, row,col);\n",
    "        L = length(t1[1,1,:]);\n",
    "        haar_tensor[:,:, layer+1:layer+L] = t1;\n",
    "        layer += L;\n",
    "        \n",
    "        #kernel4 = Haar_tree(kernel4);\n",
    "        t1 = make_tensor( N, seed4, row,col);\n",
    "        L = length(t1[1,1,:]);\n",
    "        haar_tensor[:,:, layer+1:layer+L] = t1;\n",
    "        layer += L;\n",
    "        \n",
    "        kernel_edge /= 2;     \n",
    "        N += 1;\n",
    "    end\n",
    "    \n",
    "    haar_2d = zeros(row*col,row*col);\n",
    "    for i = 1:row*col\n",
    "        vec = reshape(haar_tensor[:,:,i]', (1,:));\n",
    "        abs_sum = sum(abs.(vec));\n",
    "        haar_2d[i,:] = vec ./ abs_sum^0.5;\n",
    "    end\n",
    "    \n",
    "    haar_tensor = nothing;\n",
    "    \n",
    "    return haar_2d;\n",
    "end\n",
    "##============================"
   ]
  },
  {
   "cell_type": "code",
   "execution_count": 2,
   "metadata": {},
   "outputs": [
    {
     "data": {
      "text/plain": [
       "Img2matrix (generic function with 4 methods)"
      ]
     },
     "execution_count": 2,
     "metadata": {},
     "output_type": "execute_result"
    }
   ],
   "source": [
    "## 7 load image as matrix\n",
    "function Img2matrix(pathname, r = false, c = false, RGB = true)\n",
    "    img = channelview(load(pathname));\n",
    "    r0, c0 = size(img[1,:,:]);\n",
    "    \n",
    "    if r == false\n",
    "        r = r0;\n",
    "    end\n",
    "    if c == false\n",
    "        c = c0;\n",
    "    end\n",
    "    \n",
    "    red = imresize(img[1,:,:], (r,c));\n",
    "    green = imresize(img[2,:,:], (r,c));\n",
    "    blue = imresize(img[3,:,:], (r,c));\n",
    "    \n",
    "    if RGB == true\n",
    "        matrix = zeros(r,c,3);\n",
    "        matrix[:,:,1] = red;\n",
    "        matrix[:,:,2] = green;\n",
    "        matrix[:,:,3] = blue;\n",
    "        \n",
    "    else\n",
    "        matrix = zeros(r,c);\n",
    "        matrix = 0.21 * red  + 0.72 * green + 0.07 * blue;\n",
    "    end\n",
    "    \n",
    "    return matrix;\n",
    "end\n",
    "##==============================================="
   ]
  },
  {
   "cell_type": "code",
   "execution_count": 3,
   "metadata": {},
   "outputs": [
    {
     "data": {
      "text/plain": [
       "PMT_measure_simu (generic function with 2 methods)"
      ]
     },
     "execution_count": 3,
     "metadata": {},
     "output_type": "execute_result"
    }
   ],
   "source": [
    "function PMT_measure_simu(photon_number, cycles, upload_image, upload_basis, Poisson = true)\n",
    "    ### photon - number is the photons of each pixel during each measurement\n",
    "    ### cycles : the compression rate; \n",
    "    ### Poisson : true, adding poisson noise\n",
    "    ### upload_image : Black white image (matrix)\n",
    "    image = upload_image / maximum(upload_image);\n",
    "    r_tot, c_tot = size(upload_image);\n",
    "    #=\n",
    "    if upload_basis == \"null\"\n",
    "        DMD_basis = DMD_measure_basis(r_tot, c_tot, cycles);\n",
    "    else\n",
    "        DMD_basis = upload_basis[1:cycles,:];\n",
    "    end\n",
    "    =#\n",
    "    DMD_basis = upload_basis[1:cycles,:];\n",
    "    \n",
    "    image_vector = reshape(image', (:, 1));\n",
    "    image_vector *= photon_number; ## here you are light up a image\n",
    "    \n",
    "    measurements = zeros(cycles,1); \n",
    "    ### if you want to do RGB image later, set zeros(cycles,3)\n",
    "    \n",
    "    for i = 1:cycles\n",
    "        #val = DMD_basis[i:i,:] * image_vector;\n",
    "        \n",
    "        if Poisson == true\n",
    "            #val = Poisson_noise(val);\n",
    "            val = DMD_basis[i:i,:] * Poisson_noise(image_vector);\n",
    "        else\n",
    "            val = DMD_basis[i:i,:] * image_vector;\n",
    "        end\n",
    "        measurements[i,:] = val;\n",
    "        #YZ_process_bar(i/cycles);\n",
    "    end\n",
    "    \n",
    "    measurements /= photon_number;\n",
    "    \n",
    "    return measurements;\n",
    "end"
   ]
  },
  {
   "cell_type": "code",
   "execution_count": 4,
   "metadata": {},
   "outputs": [],
   "source": [
    "r = 64;\n",
    "c = 64;\n",
    "img = Img2matrix(\"ECE.jpg\",r,c,false);\n",
    "N = 15;\n",
    "time_series = [i for i = 1:N]./N .*500;\n",
    "photon_per_second = 1e6;\n",
    "\n",
    "phi_dct = IDCT_basis(r, c);\n",
    "phi_haar = Haar_recursion(r, c);\n",
    "phi_ceil_dct = ceil.(phi_dct); ## the 0-1 mask\n",
    "phi_sign_dct = sign.(phi_dct); ## the 0-1 mask\n",
    "\n",
    "\n",
    "#inv_phi_idct = DCT_basis(r, c);\n",
    "inv_phi_dct = phi_dct';\n",
    "inv_phi_haar = phi_haar';\n",
    "inv_phi_ceil_dct = inv(phi_ceil_dct);\n",
    "inv_phi_sign_dct = inv(phi_sign_dct);\n",
    "\n",
    "BS_dct_error = zeros(length(time_series),1);\n",
    "BS_haar_error = zeros(length(time_series),1);\n",
    "BS_ceil_dct_error = zeros(length(time_series),1);\n",
    "BS_sign_dct_error = zeros(length(time_series),1);"
   ]
  },
  {
   "cell_type": "code",
   "execution_count": 5,
   "metadata": {},
   "outputs": [],
   "source": [
    "for time_slot = 1 : length(time_series)\n",
    "    \n",
    "    time = time_series[time_slot];\n",
    "    total_photons = photon_per_second * time;\n",
    "    photon_per_mask_per_pixel = total_photons / (r*c)/(r*c);\n",
    "    \n",
    "    dct_measurement = PMT_measure_simu(photon_per_mask_per_pixel, r*c, img, phi_dct, true);\n",
    "    dct_recons_vector = inv_phi_dct * dct_measurement;\n",
    "    dct_recons_img = reshape(dct_recons_vector, (r,c))';\n",
    "    BS_dct_error[time_slot] = mean((dct_recons_img .- img).^2);\n",
    "    \n",
    "    haar_measurement = PMT_measure_simu(photon_per_mask_per_pixel, r*c, img, phi_haar, true);\n",
    "    haar_recons_vector = inv_phi_haar * haar_measurement;\n",
    "    haar_recons_img = reshape(haar_recons_vector, (r,c))';\n",
    "    BS_haar_error[time_slot] = mean((haar_recons_img .- img).^2);\n",
    "    \n",
    "    ceil_dct_measurement = PMT_measure_simu(photon_per_mask_per_pixel, r*c, img, phi_ceil_dct, true);\n",
    "    ceil_dct_recons_vector = inv_phi_ceil_dct * ceil_dct_measurement;\n",
    "    ceil_dct_recons_img = reshape(ceil_dct_recons_vector, (r,c))';\n",
    "    BS_ceil_dct_error[time_slot] = mean((ceil_dct_recons_img .- img).^2);\n",
    "    \n",
    "    sign_dct_measurement = PMT_measure_simu(photon_per_mask_per_pixel, r*c, img, phi_sign_dct, true);\n",
    "    sign_dct_recons_vector = inv_phi_sign_dct * sign_dct_measurement;\n",
    "    sign_dct_recons_img = reshape(sign_dct_recons_vector, (r,c))';\n",
    "    BS_sign_dct_error[time_slot] = mean((sign_dct_recons_img .- img).^2);\n",
    "    \n",
    "end"
   ]
  },
  {
   "cell_type": "code",
   "execution_count": 6,
   "metadata": {},
   "outputs": [
    {
     "data": {
      "image/png": "[encoded data removed]",
      "text/plain": [
       "Figure(PyObject <Figure size 640x480 with 1 Axes>)"
      ]
     },
     "metadata": {},
     "output_type": "display_data"
    }
   ],
   "source": [
    "figure();\n",
    "plot(time_series, log10.(BS_dct_error), label = \"dct-BS\");\n",
    "plot(time_series, log10.(BS_haar_error), label = \"haar-BS\");\n",
    "plot(time_series, log10.(BS_ceil_dct_error), label = \"ceil-dct-BS\");\n",
    "plot(time_series, log10.(BS_sign_dct_error), label = \"sign-dct-BS\");\n",
    "\n",
    "legend();\n",
    "xlabel(\"time/seconds\");\n",
    "ylabel(\"log10(MSE)\");"
   ]
  },
  {
   "cell_type": "code",
   "execution_count": null,
   "metadata": {},
   "outputs": [],
   "source": []
  },
  {
   "cell_type": "code",
   "execution_count": null,
   "metadata": {},
   "outputs": [],
   "source": []
  },
  {
   "cell_type": "code",
   "execution_count": 7,
   "metadata": {},
   "outputs": [
    {
     "data": {
      "text/plain": [
       "2×2 Array{Float64,2}:\n",
       " 1.0  3.0\n",
       " 3.0  4.0"
      ]
     },
     "execution_count": 7,
     "metadata": {},
     "output_type": "execute_result"
    }
   ],
   "source": [
    "a = [1 2.5 ; 3 4];\n",
    "ceil.(a)"
   ]
  },
  {
   "cell_type": "code",
   "execution_count": 8,
   "metadata": {},
   "outputs": [
    {
     "data": {
      "text/plain": [
       "2×2 Adjoint{Float64,Base.ReshapedArray{Float64,2,Adjoint{Float64,Array{Float64,2}},Tuple{Base.MultiplicativeInverses.SignedMultiplicativeInverse{Int64}}}}:\n",
       " 1.0  3.0\n",
       " 2.5  4.0"
      ]
     },
     "execution_count": 8,
     "metadata": {},
     "output_type": "execute_result"
    }
   ],
   "source": [
    "reshape(reshape(a, (:,1))',(2,2))'"
   ]
  },
  {
   "cell_type": "code",
   "execution_count": 9,
   "metadata": {},
   "outputs": [
    {
     "data": {
      "text/plain": [
       "2×2 Array{Int64,2}:\n",
       "  1   1\n",
       " -1  -1"
      ]
     },
     "execution_count": 9,
     "metadata": {},
     "output_type": "execute_result"
    }
   ],
   "source": [
    "b = [1 2; -3 -4];\n",
    "sign.(b)"
   ]
  },
  {
   "cell_type": "code",
   "execution_count": 17,
   "metadata": {},
   "outputs": [
    {
     "data": {
      "text/plain": [
       "0.5001220703125"
      ]
     },
     "execution_count": 17,
     "metadata": {},
     "output_type": "execute_result"
    }
   ],
   "source": [
    "mean(phi_ceil_dct)"
   ]
  },
  {
   "cell_type": "code",
   "execution_count": 18,
   "metadata": {},
   "outputs": [
    {
     "data": {
      "text/plain": [
       "0.000244140625"
      ]
     },
     "execution_count": 18,
     "metadata": {},
     "output_type": "execute_result"
    }
   ],
   "source": [
    "mean(phi_sign_dct)"
   ]
  },
  {
   "cell_type": "code",
   "execution_count": 19,
   "metadata": {},
   "outputs": [
    {
     "data": {
      "text/plain": [
       "3.8146972656249996e-6"
      ]
     },
     "execution_count": 19,
     "metadata": {},
     "output_type": "execute_result"
    }
   ],
   "source": [
    "mean(phi_dct)"
   ]
  },
  {
   "cell_type": "code",
   "execution_count": null,
   "metadata": {},
   "outputs": [],
   "source": []
  },
  {
   "cell_type": "code",
   "execution_count": 5,
   "metadata": {},
   "outputs": [
    {
     "data": {
      "text/plain": [
       "5-element Array{Int64,1}:\n",
       " 1\n",
       " 2\n",
       " 3\n",
       " 4\n",
       " 5"
      ]
     },
     "execution_count": 5,
     "metadata": {},
     "output_type": "execute_result"
    }
   ],
   "source": [
    "a = [i for i = 1:5]"
   ]
  },
  {
   "cell_type": "code",
   "execution_count": 9,
   "metadata": {},
   "outputs": [
    {
     "ename": "MethodError",
     "evalue": "MethodError: no method matching -(::Array{Int64,1}, ::Float64)\nClosest candidates are:\n  -(!Matched::Float64, ::Float64) at float.jl:403\n  -(!Matched::Complex{Bool}, ::Real) at complex.jl:303\n  -(!Matched::Missing, ::Number) at missing.jl:115\n  ...",
     "output_type": "error",
     "traceback": [
      "MethodError: no method matching -(::Array{Int64,1}, ::Float64)\nClosest candidates are:\n  -(!Matched::Float64, ::Float64) at float.jl:403\n  -(!Matched::Complex{Bool}, ::Real) at complex.jl:303\n  -(!Matched::Missing, ::Number) at missing.jl:115\n  ...",
      "",
      "Stacktrace:",
      " [1] top-level scope at In[9]:1"
     ]
    }
   ],
   "source": [
    "a - sum(a)/length(a)"
   ]
  },
  {
   "cell_type": "code",
   "execution_count": null,
   "metadata": {},
   "outputs": [],
   "source": []
  }
 ],
 "metadata": {
  "kernelspec": {
   "display_name": "Julia 1.3.1",
   "language": "julia",
   "name": "julia-1.3"
  },
  "language_info": {
   "file_extension": ".jl",
   "mimetype": "application/julia",
   "name": "julia",
   "version": "1.3.1"
  }
 },
 "nbformat": 4,
 "nbformat_minor": 4
}
